{
 "cells": [
  {
   "cell_type": "markdown",
   "metadata": {},
   "source": [
    "# Homework\n",
    "To check if you learnt something from the workshop, let me offer you some quick & easy exercises to challenge you."
   ]
  },
  {
   "cell_type": "markdown",
   "metadata": {},
   "source": [
    "## Question 1\n",
    "Load the `airquality` dataset and display it. \\\n",
    "You can find details about this dataset [here](https://stat.ethz.ch/R-manual/R-devel/library/datasets/html/airquality.html)."
   ]
  },
  {
   "cell_type": "markdown",
   "metadata": {},
   "source": [
    "## Question 2\n",
    "Make a scatter plot of the Ozone vs the Solar R, including axes titles and removing the legend."
   ]
  },
  {
   "cell_type": "markdown",
   "metadata": {},
   "source": [
    "## Question 3\n",
    "Make a histogram of the `Ozone` column. In order to do so, make sure to first drop all missing values. See sub-questions below:\n",
    "\n",
    "### Question 3a\n",
    "Import the `DataFrames`package. \\\n",
    "Remember that packages can be downloaded:\n",
    "- with `Pkg.add(<package_name>)`\n",
    "- by pressing `]` in your terminal, then typing `add <package_name>`"
   ]
  },
  {
   "cell_type": "markdown",
   "metadata": {},
   "source": [
    "### Question 3b\n",
    "Select only the Ozone column **in a DataFrame**. *I.e.* use the syntax we saw in the workshop, only placing the string of the column you want inside of an array."
   ]
  },
  {
   "cell_type": "markdown",
   "metadata": {},
   "source": [
    "\n",
    "### Question 3c\n",
    "Use the `dropmissing` function on the dataset containing only the ozone column."
   ]
  },
  {
   "cell_type": "markdown",
   "metadata": {},
   "source": [
    "### Question 3d\n",
    "Plot the histogram"
   ]
  }
 ],
 "metadata": {
  "kernelspec": {
   "display_name": "Julia 1.7.1",
   "language": "julia",
   "name": "julia-1.7"
  },
  "language_info": {
   "file_extension": ".jl",
   "mimetype": "application/julia",
   "name": "julia",
   "version": "1.7.1"
  },
  "orig_nbformat": 4,
  "vscode": {
   "interpreter": {
    "hash": "36cf16204b8548560b1c020c4e8fb5b57f0e4c58016f52f2d4be01e192833930"
   }
  }
 },
 "nbformat": 4,
 "nbformat_minor": 2
}
